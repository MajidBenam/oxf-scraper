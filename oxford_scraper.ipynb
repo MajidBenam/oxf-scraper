{
 "cells": [
  {
   "cell_type": "code",
   "execution_count": 1,
   "id": "acquired-friday",
   "metadata": {},
   "outputs": [
    {
     "name": "stderr",
     "output_type": "stream",
     "text": [
      "/usr/lib/python3/dist-packages/requests/__init__.py:89: RequestsDependencyWarning: urllib3 (1.26.7) or chardet (3.0.4) doesn't match a supported version!\n",
      "  warnings.warn(\"urllib3 ({}) or chardet ({}) doesn't match a supported \"\n"
     ]
    }
   ],
   "source": [
    "from utils import *\n",
    "import pprint\n",
    "import time\n",
    "import warnings\n",
    "warnings.filterwarnings('ignore')"
   ]
  },
  {
   "cell_type": "code",
   "execution_count": 2,
   "id": "outstanding-prerequisite",
   "metadata": {},
   "outputs": [
    {
     "name": "stdout",
     "output_type": "stream",
     "text": [
      "blip 1, blip 2, dichotomy 1, dichotomy 2, loose 1, loose 2, loose 3, loose 4, loose 1, loose 2, loose 3, loose 4, cushion 1, cushion 2, cushion 3, vain 1, vain 2, veil 1, veil 2, veil 3, insurrection 1, insurrection 2, psychosis 1, psychosis 2, symbiosis 1, symbiosis 2, complicity 1, complicity 2, nebulous 1, nebulous 2, wince 1, wince 2, wince 3, prudent 1, prudent 2, haul 1, haul 2, haul 3, frigid 1, frigid 2, gawk 1, gawk 2, trip 1, trip 2, trip 3, oval 1, oval 2, oval 3, elliptical 1, elliptical 2, ellipsis 1, ellipsis 2, ellipse 1, ellipse 2, nudge 1, nudge 2, nudge 3, hepatic 1, hepatic 2, vascular 1, vascular 2, delirious 1, delirious 2, delirium 1, delirium 2, slur 1, slur 2, slur 3, erratic 1, erratic 2, erratic 3, bedridden 1, bedridden 2, untoward 1, untoward 2, catheter 1, catheter 2, maroon 1, maroon 2, maroon 3, maroon 4, stalk 1, stalk 2, stalk 3, tract 1, tract 2, sulk 1, sulk 2, sulk 3, pet 1, pet 2, pet 3, pet 4, pet 5, misogynist 1, misogynist 2, indulge 1, indulge 2, hunch 1, hunch 2, hunch 3, mascot 1, mascot 2, badger 1, badger 2, badger 3, ex-con 1, thorough 1, thorough 2, hone 1, hone 2, tamp 1, tamp 2, tether 1, tether 2, tether 3, confidant 1, confidant 2, pertinent 1, pertinent 2, profanity 1, profanity 2, hypnosis 1, hypnosis 2, chime 1, chime 2, chime 3, left field 1, extradite 1, extradite 2, fester 1, fester 2, fluff 1, fluff 2, fluff 3, nonchalant 1, nonchalant 2, vacillate 1, vacillate 2, odyssey 1, odyssey 2, undaunted 1, undaunted 2, headlong 1, headlong 2, headlong 3, rung 1, rung 2, rung 3, gesticulate 1, gesticulate 2, precarious 1, precarious 2, hots 1, hots 2, goose 1, goose 2, goose 3, whittle 1, whittle 2, fence 1, fence 2, fence 3, crunch 1, crunch 2, crunch 3, crunch 4, prong 1, prong 2, stoked 1, stoked 2, presumptuous 1, presumptuous 2, bat 1, bat 2, bat 3, bat 4, south 1, south 2, south 3, south 4, rasp 1, rasp 2, rasp 3, quack 1, quack 2, quack 3, slowpoke 1, slowpoke 2, upscale 1, upscale 2, upscale 3, upscale 4, pyramid scheme 1, goner 1, goner 2, progeny 1, progeny 2, behemoth 1, behemoth 2, flustered 1, flustered 2, trickle 1, trickle 2, trickle 3, Homo sapiens 1, chalet 1, chalet 2, carrion 1, carrion 2, unison 1, unison 2, unison 3, trippy 1, trippy 2, pew 1, pew 2, sullen 1, sullen 2, discern 1, discern 2, prelude 1, prelude 2, regurgitate 1, regurgitate 2, righteous 1, righteous 2, vehement 1, vehement 2, revile 1, revile 2, inscrutable 1, inscrutable 2, awash 1, awash 2, tick 1, tick 2, tick 3, quackery 1, quackery 2, stall 1, stall 2, stall 3, mnemonic 1, mnemonic 2, mnemonic 3, erogenous zone 1, clairvoyant 1, clairvoyant 2, clairvoyant 3, mucous membrane 1, plumb 1, plumb 2, plumb 3, plump 1, plump 2, plump 3, plump 1, plump 2, plump 3, harrowing 1, harrowing 2, jug 1, jug 2, flicker 1, flicker 2, flicker 3, frugal 1, frugal 2, cop 1, cop 2, cop 3, streamer 1, streamer 2, loot 1, loot 2, loot 3, shroud 1, shroud 2, shroud 3, squeamish 1, squeamish 2, acquiesce 1, acquiesce 2, gregarious 1, gregarious 2, vanity 1, vanity 2, indignation 1, indignation 2, vertigo 1, vertigo 2, wistful 1, wistful 2, hodge-podge 1, bus 1, bus 2, bus 3, pompous 1, pompous 2, devolve 1, slug 1, slug 2, slug 3, tailspin 1, tailspin 2, callous 1, callous 2, bittersweet 1, bittersweet 2, wrong 1, wrong 2, wrong 3, wrong 4, wrong 5, innocuous 1, innocuous 2, scrunch 1, scrunch 2, scrunch 3, conflagration 1, conflagration 2, flinch 1, flinch 2, mealy 1, mealy 2, groggy 1, groggy 2, off-ramp 1, catapult 1, catapult 2, catapult 3, coax 1, coax 2, coax 3, dabble 1, dabble 2, banish 1, banish 2, posh 1, posh 2, posh 3, obituary 1, obituary 2, smother 1, smother 2, ballast 1, ballast 2, rhapsody 1, rhapsody 2, amenity 1, amenity 2, blurb 1, blurb 2, vortex 1, vortex 2, flaunt 1, flaunt 2, arraign 1, arraign 2, perk 1, perk 2, daunting 1, daunting 2, crematorium 1, crematorium 2, slumber party 1, fascism 1, fascism 2, rink 1, rink 2, shambolic 1, shambolic 2, pneumonia 1, pneumonia 2, heirloom 1, heirloom 2, heirloom 3, quilt 1, quilt 2, peachy 1, peachy 2, retainer 1, retainer 2, facade 1, facade 2, cellulite 1, cellulite 2, shenanigans 1, shenanigans 2, flab 1, flab 2, antler 1, antler 2, zeitgeist 1, zeitgeist 2, scalp 1, scalp 2, scalp 3, gonorrhea 1, appease 1, appease 2, compartmentalize 1, compartmentalize 2, hunch 1, hunch 2, hunch 3, occult 1, occult 2, flail 1, flail 2, flail 3, demeaning 1, demeaning 2, humdrum 1, humdrum 2, juxtapose 1, juxtapose 2, big time 1, inundate 1, inundate 2, meld 1, meld 2, date rape 1, sleazy 1, sleazy 2, smooch 1, smooch 2, bobby pin 1, Q-tip 1, grout 1, grout 2, grout 3, squeegee 1, squeegee 2, stickler 1, stickler 2, gravy 1, gravy 2, diction 1, diction 2, piggyback 1, piggyback 2, piggyback 3, mobilize 1, mobilize 2, labia 1, labia 2, Mardi Gras 1, imbue 1, imbue 2, charlie 1, charlie 2, charlie 3, bloated 1, bloated 2, detriment 1, detriment 2, contingency 1, contingency 2, rain check 1, omen 1, omen 2, voodoo 1, voodoo 2, bail 1, bail 2, bail 3, bleachers 1, bleachers 2, Sabbath 1, slavish 1, slavish 2, kudos 1, kudos 2, lull 1, lull 2, lull 3, shiftless 1, shiftless 2, pretentious 1, pretentious 2, rapier 1, rapier 2, transfix 1, transfix 2, distillery 1, distillery 2, hiatus 1, hiatus 2, bonanza 1, bonanza 2, bonanza 3, heroic 1, heroic 2, mope 1, mope 2, shag 1, shag 2, shag 3, shag 4, filly 1, filly 2, gallivant 1, gallivant 2, droll 1, droll 2, fiendish 1, fiendish 2, cushy 1, cushy 2, boulder 1, boulder 2, attagirl 1, attagirl 2, mayhem 1, mayhem 2, hacksaw 1, hacksaw 2, knackered 1, knackered 2, outspoken 1, outspoken 2, inane 1, inane 2, seminal 1, seminal 2, ruminate 1, ruminate 2, amends 1, amends 2, tacky 1, tacky 2, conspicuous 1, conspicuous 2, swoon 1, swoon 2, swoon 3, bolster 1, bolster 2, bolster 3, shanghai 1, shanghai 2, agape 1, squint 1, squint 2, squint 3, rabble-rousing 1, grope 1, grope 2, grope 3, festoon 1, festoon 2, festoon 3, ostentation 1, ostentation 2, squirm 1, squirm 2, prickly 1, prickly 2, opulent 1, opulent 2, to and fro 1, zonked 1, zonked 2, preposterous 1, preposterous 2, adrift 1, adrift 2, small 1, small 2, small 3, small 4, epiphany 1, epiphany 2, lenient 1, lenient 2, hoax 1, hoax 2, hoax 3, vernacular 1, vernacular 2, vernacular 3, mung bean 1, ottoman 1, ottoman 2, elope 1, elope 2, overbearing 1, overbearing 2, tumult 1, tumult 2, behove 1, behove 2, bona fide 1, spooky 1, spooky 2, pedestal 1, pedestal 2, impasse 1, impasse 2, third degree 1, pounce 1, pounce 2, contrived 1, contrived 2, bulimia 1, bulimia 2, ingenious 1, ingenious 2, ebullient 1, ebullient 2, inhibited 1, inhibited 2, composite 1, composite 2, composite 3, allegory 1, allegory 2, thrifty 1, thrifty 2, immaculate 1, immaculate 2, blatant 1, blatant 2, sage 1, sage 2, sage 3, symbiotic 1, symbiotic 2, intrusive 1, intrusive 2, primeval 1, primeval 2, oversee 1, oversee 2, grasping 1, grasping 2, undertow 1, undertow 2, virile 1, virile 2, tepid 1, tepid 2, vagrant 1, vagrant 2, vagrant 3, capricious 1, capricious 2, shroud 1, shroud 2, shroud 3, blanch 1, blanch 2, linoleum 1, linoleum 2, splinter 1, splinter 2, splinter 3, quid pro quo 1, primp 1, primp 2, pact 1, pact 2, vent 1, vent 2, vent 3, seethe 1, seethe 2, hindsight 1, hindsight 2, cult 1, cult 2, cult 3, venerate 1, venerate 2, stash 1, stash 2, stash 3, lint 1, lint 2, sizzle 1, sizzle 2, sizzle 3, cult 1, cult 2, cult 3, ruffle 1, ruffle 2, ruffle 3, matter-of-fact 1, head start 1, proletariat 1, bourgeoisie 1, feather boa 1, pry 1, pry 2, cocoon 1, cocoon 2, cocoon 3, morbid 1, morbid 2, squawk 1, squawk 2, squawk 3, hump 1, hump 2, hump 3, rugged 1, rugged 2, hunky 1, hunky 2, cue 1, cue 2, cue 3, elf 1, elf 2, elf 3, meadow 1, meadow 2, muffled 1, muffled 2, stoned 1, stoned 2, smug 1, smug 2, stern 1, stern 2, stern 3, ounce 1, ounce 2, corpulent 1, corpulent 2, creep 1, creep 2, creep 3, mutton chop whiskers 1, drape 1, drape 2, drape 3, sequel 1, sequel 2, scribble 1, scribble 2, scribble 3, glean 1, glean 2, grist 1, grist 2, conceit 1, conceit 2, smart alec 1, sorcerer 1, sorcerer 2, doldrums 1, doldrums 2, lynch 1, lynch 2, cringe 1, cringe 2, glitch 1, glitch 2, glitch 3, candid 1, "
     ]
    },
    {
     "name": "stdout",
     "output_type": "stream",
     "text": [
      "candid 2, volition 1, volition 2, edgy 1, edgy 2, verbatim 1, verbatim 2, self-indulgent 1, chute 1, chute 2, nirvana 1, nirvana 2, nirvana 3, withered 1, withered 2, haunch 1, haunch 2, waddle 1, waddle 2, waddle 3, snippet 1, snippet 2, vignette 1, vignette 2, furtive 1, furtive 2, magnum opus 1, elated 1, elated 2, absolve 1, absolve 2, fondle 1, fondle 2, bedlam 1, bedlam 2, refuge 1, refuge 2, aesthetic 1, aesthetic 2, aesthetic 3, luxuriate 1, parody 1, parody 2, parody 3, impassioned 1, impassioned 2, snub 1, snub 2, snub 3, snub 4, decadent 1, decadent 2, avid 1, avid 2, estimable 1, estimable 2, disparaging 1, disparaging 2, frenzy 1, frenzy 2, wayward 1, wayward 2, jovial 1, jovial 2, jocular 1, jocular 2, burrow 1, burrow 2, burrow 3, neck 1, neck 2, neck 3, homely 1, homely 2, frizzy 1, frizzy 2, ostracize 1, ostracize 2, crouch 1, crouch 2, crouch 3, bum 1, bum 2, bum 3, bum 4, crab 1, crab 2, taunt 1, taunt 2, taunt 3, bubbly 1, bubbly 2, bubbly 3, personable 1, personable 2, size 1, size 2, size 3, stoop 1, stoop 2, stoop 3, corroborate 1, corroborate 2, cordial 1, cordial 2, cordial 3, alibi 1, alibi 2, besmirch 1, besmirch 2, assignation 1, assignation 2, thwart 1, thwart 2, botch 1, botch 2, botch 3, mishandle 1, mishandle 2, disbar 1, disbar 2, rambling 1, rambling 2, rambling 3, leak 1, leak 2, leak 3, undignified 1, undignified 2, memo 1, memo 2, player 1, player 2, head 1, head 2, head 3, head 4, hearty 1, hearty 2, hearty 3, prosecutor 1, prosecutor 2, chastise 1, chastise 2, woodpecker 1, woodpecker 2, petition 1, petition 2, petition 3, technicality 1, technicality 2, eunuch 1, eunuch 2, magnanimous 1, magnanimous 2, lisp 1, lisp 2, lisp 3, ham 1, ham 2, ham 3, cynic 1, cynic 2, alcove 1, alcove 2, agnostic 1, agnostic 2, agnostic 3, throb 1, throb 2, throb 3, cream 1, cream 2, cream 3, cream 4, fraternize 1, fraternize 2, skid row 1, caste 1, caste 2, emerald 1, emerald 2, emerald 3, wallow 1, wallow 2, wallow 3, albino 1, albino 2, albino 3, smock 1, smock 2, reverie 1, reverie 2, transom 1, transom 2, snatch 1, snatch 2, snatch 3, fluke 1, fluke 2, canvas 1, canvas 2, rut 1, rut 2, deck 1, deck 2, deck 3, glower 1, glower 2, glower 3, dandy 1, dandy 2, dandy 3, first-rate 1, rabbit punch 1, square 1, square 2, square 3, square 4, square 5, prop 1, prop 2, prop 3, infallible 1, infallible 2, cannon 1, cannon 2, cannon 3, tumble 1, tumble 2, tumble 3, tuft 1, tuft 2, salve 1, salve 2, salve 3, forsake 1, forsake 2, wad 1, wad 2, wad 3, dole 1, dole 2, hoard 1, hoard 2, hoard 3, pus 1, pus 2, loiter 1, loiter 2, demerit 1, demerit 2, gingham 1, gingham 2, infer 1, infer 2, pylon 1, pylon 2, mutter 1, mutter 2, mutter 3, dab 1, dab 2, dab 3, thing 1, thing 2, scrounge 1, scrounge 2, scrounge 3, over 1, over 2, over 3, over 4, over 5, sniff 1, sniff 2, sniff 3, skewer 1, skewer 2, skewer 3, born 1, born 2, born 3, bandanna 1, stuff 1, stuff 2, stuff 3, beat 1, beat 2, beat 3, beat 4, alley 1, alley 2, jinx 1, jinx 2, jinx 3, jinxed 1, jinxed 2, kiss-and-tell 1, itchy 1, itchy 2, along 1, along 2, along 3, tipsy 1, tipsy 2, new 1, new 2, reign 1, reign 2, reign 3, couch potato 1, grounded 1, grounded 2, reverberate 1, reverberate 2, course 1, course 2, course 3, purge 1, purge 2, purge 3, knee-jerk 1, covenant 1, covenant 2, covenant 3, boilerplate 1, boilerplate 2, duvet 1, duvet 2, washcloth 1, washcloth 2, plunger 1, plunger 2, toiletries 1, toiletries 2, hardwood 1, hardwood 2, windowpane 1, windowpane 2, pane 1, pane 2, sill 1, sill 2, rocking chair 1, plush 1, plush 2, plush 3, lounge 1, lounge 2, lounge 3, knick-knack 1, den 1, den 2, colander 1, colander 2, condiment 1, condiment 2, coaster 1, coaster 2, stainless steel 1, wok 1, wok 2, waxed paper 1, parchment 1, parchment 2, plastic wrap 1, spatula 1, spatula 2, paddle 1, paddle 2, paddle 3, scraper 1, scraper 2, ladle 1, ladle 2, ladle 3, whisk 1, whisk 2, whisk 3, garlic press 1, pantry 1, pantry 2, Tupperware 1, serrated 1, serrated 2, corkscrew 1, corkscrew 2, corkscrew 3, tenderizer 1, tongs 1, tongs 2, tin 1, tin 2, contention 1, contention 2, sieve 1, sieve 2, sieve 3, strainer 1, strainer 2, SOB 1, lurk 1, lurk 2, lurk 3, huddle 1, huddle 2, huddle 3, wee 1, wee 2, wee 3, wee 4, chickpea 1, chickpea 2, coon 1, coon 2, rat race 1, thug 1, thug 2, agitator 1, agitator 2, muzzle 1, muzzle 2, muzzle 3, aphrodisiac 1, aphrodisiac 2, aphrodisiac 3, enthuse 1, enthuse 2, pervasive 1, pervasive 2, bomb 1, bomb 2, bomb 3, scrap 1, scrap 2, scrap 3, interim 1, interim 2, interim 3, thorny 1, thorny 2, drab 1, drab 2, cloak 1, cloak 2, cloak 3, nifty 1, nifty 2, thrash 1, thrash 2, thrash 3, pandemonium 1, pandemonium 2, plummet 1, plummet 2, renege 1, renege 2, behind 1, behind 2, behind 3, behind 4, pooh-pooh 1, hell-bent 1, come 1, come 2, come 3, come 4, come 5, caddy 1, caddy 2, twitch 1, twitch 2, twitch 3, hitch 1, hitch 2, hitch 3, butler 1, butler 2, MSG 1, jaywalking 1, jaywalking 2, toupée 1, diaphragm 1, diaphragm 2, scalp 1, scalp 2, scalp 3, skimpy 1, skimpy 2, kibosh 1, kibosh 2, rustle 1, rustle 2, rustle 3, baloney 1, baloney 2, foul play 1, faux pas 1, shrink 1, shrink 2, shrink 3, lustrous 1, lustrous 2, buff 1, buff 2, buff 3, buff 4, squeal 1, squeal 2, squeal 3, emcee 1, emcee 2, emcee 3, cuckoo 1, cuckoo 2, cuckoo 3, berserk 1, berserk 2, strain 1, strain 2, strain 3, dunk 1, dunk 2, busboy 1, busboy 2, straw 1, straw 2, barricade 1, barricade 2, barricade 3, seam 1, seam 2, stand-in 1, grind 1, grind 2, grind 3, straddle 1, straddle 2, mitt 1, mitt 2, scoop 1, scoop 2, scoop 3, rendezvous 1, rendezvous 2, rendezvous 3, Execution time: 1575.2257747650146 seconds\n"
     ]
    }
   ],
   "source": [
    "st = time.time()\n",
    "my_main_dic = test_func_smaller_soup(my_list)\n",
    "# get the end time\n",
    "et = time.time()\n",
    "# get the execution time\n",
    "elapsed_time = et - st\n",
    "print('Execution time:', elapsed_time, 'seconds')"
   ]
  },
  {
   "cell_type": "code",
   "execution_count": null,
   "id": "golden-edinburgh",
   "metadata": {},
   "outputs": [],
   "source": [
    "pprint.pprint(my_main_dic)"
   ]
  },
  {
   "cell_type": "code",
   "execution_count": null,
   "id": "wrapped-determination",
   "metadata": {},
   "outputs": [],
   "source": []
  },
  {
   "cell_type": "code",
   "execution_count": null,
   "id": "possible-coaching",
   "metadata": {},
   "outputs": [],
   "source": [
    "\n",
    "import json\n",
    "\n",
    "with open('my_json_file_of_oxford_test_dic.json', 'r') as f:\n",
    "    data = json.load(f)"
   ]
  },
  {
   "cell_type": "code",
   "execution_count": null,
   "id": "acknowledged-asian",
   "metadata": {},
   "outputs": [],
   "source": [
    "pprint.pprint(data)"
   ]
  },
  {
   "cell_type": "code",
   "execution_count": null,
   "id": "greek-coordination",
   "metadata": {},
   "outputs": [],
   "source": [
    "for i in my_sngs:\n",
    "    print(type(i))"
   ]
  },
  {
   "cell_type": "code",
   "execution_count": null,
   "id": "static-austria",
   "metadata": {},
   "outputs": [],
   "source": [
    "my_dic = test_func(my_list)"
   ]
  },
  {
   "cell_type": "code",
   "execution_count": null,
   "id": "operating-enclosure",
   "metadata": {},
   "outputs": [],
   "source": [
    "pprint.pprint(my_dic[\"wise\"])"
   ]
  },
  {
   "cell_type": "code",
   "execution_count": null,
   "id": "framed-attack",
   "metadata": {},
   "outputs": [],
   "source": []
  },
  {
   "cell_type": "code",
   "execution_count": null,
   "id": "gothic-sport",
   "metadata": {},
   "outputs": [],
   "source": []
  },
  {
   "cell_type": "code",
   "execution_count": null,
   "id": "elect-jordan",
   "metadata": {},
   "outputs": [],
   "source": [
    "word = \"maroon\"\n",
    "word_dic = {}\n",
    "entry_dic = {}\n",
    "for index, item in enumerate(my_main_defs):\n",
    "    inner_dic = {}\n",
    "    for i in range(len(item)):\n",
    "        a_def = item[i].text\n",
    "        good_key_for_def = \"DEF_\" + str(i+1)\n",
    "        inner_dic[good_key_for_def] = a_def\n",
    "        print(a_def)\n",
    "    entry_dic[index] = inner_dic\n",
    "word_dic[word] = entry_dic\n"
   ]
  },
  {
   "cell_type": "code",
   "execution_count": null,
   "id": "vital-fifteen",
   "metadata": {},
   "outputs": [],
   "source": [
    "import pprint\n",
    "pprint.pprint(word_dic)"
   ]
  },
  {
   "cell_type": "code",
   "execution_count": null,
   "id": "legendary-contractor",
   "metadata": {},
   "outputs": [],
   "source": []
  },
  {
   "cell_type": "code",
   "execution_count": null,
   "id": "royal-idaho",
   "metadata": {},
   "outputs": [],
   "source": []
  },
  {
   "cell_type": "code",
   "execution_count": null,
   "id": "warming-degree",
   "metadata": {},
   "outputs": [],
   "source": []
  },
  {
   "cell_type": "code",
   "execution_count": null,
   "id": "healthy-carry",
   "metadata": {},
   "outputs": [],
   "source": []
  },
  {
   "cell_type": "code",
   "execution_count": null,
   "id": "modified-point",
   "metadata": {},
   "outputs": [],
   "source": []
  },
  {
   "cell_type": "code",
   "execution_count": null,
   "id": "cutting-marriage",
   "metadata": {},
   "outputs": [],
   "source": []
  },
  {
   "cell_type": "code",
   "execution_count": null,
   "id": "speaking-overall",
   "metadata": {},
   "outputs": [],
   "source": []
  },
  {
   "cell_type": "code",
   "execution_count": null,
   "id": "distributed-empty",
   "metadata": {},
   "outputs": [],
   "source": [
    "from lxml import etree, html\n",
    "from bs4 import BeautifulSoup\n",
    "import requests\n",
    "import re\n",
    "import bs4\n",
    "\n",
    "\n",
    "source_url = 'https://www.oxfordlearnersdictionaries.com/definition/english/'\n",
    "\n",
    "# cool trick\n",
    "headers = {\n",
    "    'User-Agent': 'Mozilla/5.0 (Macintosh; Intel Mac OS X 10.12; rv:55.0) Gecko/20100101 Firefox/55.0',\n",
    "}\n",
    "\n",
    "my_list = [\"cushion\", \"trivial\", \"wanderer\"]\n",
    "my_words_dic = {}\n",
    "#source = requests.get(source_url, headers=headers).text\n",
    "for word in my_list:\n",
    "    my_dic = {}\n",
    "    try:\n",
    "        my_word_url = source_url + word\n",
    "        source = requests.get(my_word_url, headers=headers)\n",
    "        soup = BeautifulSoup(source.content.decode('utf-8'), 'lxml')\n",
    "        main_defs = soup.find_all('span', class_ = 'def')\n",
    "    except:\n",
    "        print(\"Bad Word...\")\n",
    "        \n",
    "    my_li = soup.find(id=\"cushion_sng_1\")\n",
    "    # selects the main text\n",
    "\n",
    "    main_examples = soup.find_all('span', class_ = 'x')\n",
    "    potential_image_links = soup.find_all('a', href=True)\n",
    "    #potential_image_links = soup.find_all('img')\n",
    "\n",
    "    # https://www.oxfordlearnersdictionaries.com/media/english/fullsize\n",
    "\n",
    "    for index, my_def in enumerate(main_defs):\n",
    "        my_dic[\"definition_\" + str(index+1)] = my_def.text\n",
    "        print(my_def.text)\n",
    "\n",
    "    for jndex, my_ex in enumerate(main_examples):\n",
    "        my_dic[\"example_set_\" + str(jndex+1)] = my_ex.text\n",
    "        print(my_ex.text)\n",
    "\n",
    "    for my_pic in potential_image_links:\n",
    "        if \"https://www.oxfordlearnersdictionaries.com/media/english/fullsize\" in my_pic[\"href\"]:\n",
    "            print(my_pic['href'])\n",
    "\n",
    "    my_words_dic[word] = my_dic\n",
    "    #print(len(main_defs))\n",
    "    #print(len(main_examples))\n",
    "    #print(len(potential_image_links))\n",
    "    print(my_li)\n",
    "\n",
    "for k, v in my_words_dic.items():\n",
    "    print(k)\n",
    "    print(v)\n",
    "\n",
    "#with open('ref_seshat.csv', 'w') as my_file:\n",
    "#    pass\n",
    "\n"
   ]
  },
  {
   "cell_type": "code",
   "execution_count": null,
   "id": "seven-expansion",
   "metadata": {},
   "outputs": [],
   "source": [
    "from lxml import etree, html\n",
    "from bs4 import BeautifulSoup\n",
    "import requests\n",
    "import re\n",
    "import bs4\n",
    "\n",
    "\n",
    "source_url = 'https://www.oxfordlearnersdictionaries.com/definition/english/'\n",
    "\n",
    "# cool trick\n",
    "headers = {\n",
    "    'User-Agent': 'Mozilla/5.0 (Macintosh; Intel Mac OS X 10.12; rv:55.0) Gecko/20100101 Firefox/55.0',\n",
    "}\n",
    "\n",
    "my_list = [\"wanderlust\", \"cushion\", \"wanderer\"]\n",
    "my_words_list_of_dics = []\n",
    "#source = requests.get(source_url, headers=headers).text\n",
    "for word in my_list:\n",
    "    my_dic_for_this_word = {\n",
    "        \"word\": word,\n",
    "        \"pos\": \"xyz\",\n",
    "        \"phon\": \"abc\",\n",
    "    }\n",
    "    for i in [1,2,3,4]:\n",
    "        my_word_url = source_url + word + \"_\" + str(i)\n",
    "        source = requests.get(my_word_url, headers=headers)\n",
    "        soup = BeautifulSoup(source.content.decode('utf-8'), 'lxml')\n",
    "        main_defs = soup.find_all('span', class_ = 'def')\n",
    "        \n",
    "        if not main_defs:\n",
    "            continue\n",
    "        \n",
    "        # parts of speech\n",
    "        try:\n",
    "            my_pos = soup.find('span', class_ = 'pos')\n",
    "            my_dic_for_this_word[\"pos\"] = my_pos.text\n",
    "        except:\n",
    "            my_dic_for_this_word[\"pos\"] = \"NoPOSFound\"\n",
    "\n",
    "        # phonetics\n",
    "        try:\n",
    "            my_american_pros = soup.find('div', class_=\"phons_n_am\")\n",
    "            my_american_pro = my_american_pros.find_all('span', class_ = 'phon')\n",
    "            my_dic_for_this_word[\"phon\"] = my_american_pro[0].text\n",
    "        except:\n",
    "            my_dic_for_this_word[\"phon\"] = \"NoProFound\"\n",
    "            \n",
    "        # ol with a class of sense_single or senses_multiple\n",
    "        try:\n",
    "            my_multiple_defs = soup.find('ol', class_=\"senses_multiple\")\n",
    "            # number of defs\n",
    "            main_defs = my_multiple_defs.find('span', class_ = 'def')\n",
    "            for index, my_def in enumerate(main_defs):\n",
    "                list_item_id = word + \"_sng_\" + str(index+1)\n",
    "                my_smaller_soup = my_def.find(id=list_item_id)\n",
    "                my_dic_for_this_word[\"def_\" + str(index+1)] = my_def.text\n",
    "                try:\n",
    "                    my_examples = my_smaller_soup.find_all('span', class_ = 'x')\n",
    "                    my_dic[\"example_set_\" + str(index+1)] = [my_ex.text for my_ex in my_examples]\n",
    "                except:\n",
    "                    my_dic[\"example_set_\" + str(index+1)] = \"NoExamples\"              \n",
    "        except:\n",
    "            my_single_def = soup.find('ol', class_=\"sense_single\")\n",
    "            list_item_id = word + \"_sng_1\"\n",
    "            my_smaller_soup = my_single_def.find(id=list_item_id)\n",
    "            # the only def:\n",
    "            main_def = my_smaller_soup.find('span', class_ = 'def')\n",
    "            my_dic_for_this_word[\"def_1\"] = main_def.text\n",
    "            # the only set of examples:\n",
    "            try:\n",
    "                main_examples = my_smaller_soup.find_all('span', class_ = 'x')\n",
    "                my_dic[\"example_set_1\"] = [my_ex.text for my_ex in main_examples]\n",
    "            except:\n",
    "                my_dic[\"example_set_1\"] = \"NoExamples\"\n",
    "        my_words_list_of_dics.append(my_dic_for_this_word)\n",
    "        \n",
    "\n",
    "\n",
    "        main_examples = my_smaller_soup.find_all('span', class_ = 'x')\n",
    "        \n",
    "        \n",
    "        # images\n",
    "        potential_image_links = soup.find_all('a', href=True)\n",
    "        #potential_image_links = soup.find_all('img')\n",
    "\n",
    "        for jndex, my_ex in enumerate(main_examples):\n",
    "            my_dic[\"example_set_\" + str(jndex+1)] = my_ex.text\n",
    "            print(my_ex.text)\n",
    "        print(my_american_pro[0].text)\n",
    "\n",
    "\n",
    "#with open('ref_seshat.csv', 'w') as my_file:\n",
    "#    pass\n",
    "\n"
   ]
  },
  {
   "cell_type": "code",
   "execution_count": null,
   "id": "careful-republic",
   "metadata": {},
   "outputs": [],
   "source": [
    "#cushion_topg_3 > div > span.phonetics > div.phons_n_am > span\n",
    "#wanderer_topg_1 > div > span.phonetics > div.phons_n_am > span\n",
    "#wanderlust_topg_1 > div > span.phonetics > div.phons_n_am > span\n",
    "#take_topg_2 > div > span.phonetics > div.phons_br > span\n",
    "#take_topg_2 > div > span.phonetics > div.phons_n_am > span\n",
    "\n",
    "#take_topg_57 > div > span.phonetics > div.phons_n_am > span\n",
    "\n",
    "#wanderlust_topg_1 > div > span.phonetics > div.phons_n_am"
   ]
  },
  {
   "cell_type": "code",
   "execution_count": null,
   "id": "excessive-roller",
   "metadata": {},
   "outputs": [],
   "source": []
  },
  {
   "cell_type": "code",
   "execution_count": null,
   "id": "ambient-indicator",
   "metadata": {},
   "outputs": [],
   "source": [
    "# pet does not work properly because pet_sng_4 is the first id ... Weird\n",
    "\n",
    "my_words_list_of_dics"
   ]
  },
  {
   "cell_type": "code",
   "execution_count": null,
   "id": "linear-championship",
   "metadata": {},
   "outputs": [],
   "source": [
    "pos_converter = {\n",
    "    \"noun\": \"n\",\n",
    "    \"verb\": \"v\",\n",
    "    \"adjective\": \"adj\",\n",
    "    \"adverb\": \"adv\"\n",
    "}"
   ]
  },
  {
   "cell_type": "code",
   "execution_count": null,
   "id": "corresponding-hormone",
   "metadata": {},
   "outputs": [],
   "source": [
    "a = pos_converter.get(\"tr\", \"noun\")"
   ]
  },
  {
   "cell_type": "code",
   "execution_count": null,
   "id": "wireless-patent",
   "metadata": {},
   "outputs": [],
   "source": [
    "a"
   ]
  },
  {
   "cell_type": "code",
   "execution_count": null,
   "id": "constant-passenger",
   "metadata": {},
   "outputs": [],
   "source": [
    "a = \" abc def fdf\""
   ]
  },
  {
   "cell_type": "code",
   "execution_count": null,
   "id": "dirty-faith",
   "metadata": {},
   "outputs": [],
   "source": [
    "a.lstrip().split(' ')"
   ]
  },
  {
   "cell_type": "code",
   "execution_count": null,
   "id": "surprised-pharmacy",
   "metadata": {},
   "outputs": [],
   "source": []
  }
 ],
 "metadata": {
  "kernelspec": {
   "display_name": "Python 3",
   "language": "python",
   "name": "python3"
  },
  "language_info": {
   "codemirror_mode": {
    "name": "ipython",
    "version": 3
   },
   "file_extension": ".py",
   "mimetype": "text/x-python",
   "name": "python",
   "nbconvert_exporter": "python",
   "pygments_lexer": "ipython3",
   "version": "3.8.10"
  }
 },
 "nbformat": 4,
 "nbformat_minor": 5
}
